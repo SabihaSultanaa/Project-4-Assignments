{
  "nbformat": 4,
  "nbformat_minor": 0,
  "metadata": {
    "colab": {
      "provenance": [],
      "authorship_tag": "ABX9TyMWbHq+5h2IjRYziGc44moE",
      "include_colab_link": true
    },
    "kernelspec": {
      "name": "python3",
      "display_name": "Python 3"
    },
    "language_info": {
      "name": "python"
    }
  },
  "cells": [
    {
      "cell_type": "markdown",
      "metadata": {
        "id": "view-in-github",
        "colab_type": "text"
      },
      "source": [
        "<a href=\"https://colab.research.google.com/github/SabihaSultanaa/Project-4-Assignments/blob/main/madlib.ipynb\" target=\"_parent\"><img src=\"https://colab.research.google.com/assets/colab-badge.svg\" alt=\"Open In Colab\"/></a>"
      ]
    },
    {
      "cell_type": "code",
      "source": [
        "# Mad libs Python Project\n",
        "name = input(\"What is your name? \")\n",
        "programming_language = input(\"What is your favorite programming language? \")\n",
        "operating_system = input(\"What operating system do you use? \")\n",
        "favorite_software = input(\"What is your favorite software or tool? \")\n",
        "dream_job = input(\"What is your dream job in the IT industry? \")\n",
        "favorite_programming_platform = input(\"What is your favorite programming platform or IDE? \")\n",
        "current_project = input(\"What project are you currently working on? \")\n",
        "programming_community = input(\"What programming community do you participate in? \")\n",
        "\n",
        "output1 = f\"As a passionate programmer, I'm excited to share that my name is {name}, and I'm currently working on {current_project} using {programming_language}. I'm also an avid user of {operating_system} and {favorite_software} to streamline my workflow.\"\n",
        "output2 = f\"My ultimate career goal is to become a successful {dream_job}, where I can leverage my technical expertise to drive innovation and growth. To stay up-to-date with the latest industry trends, I actively participate in the {programming_community} community and enjoy collaborating with fellow developers on {favorite_programming_platform}.\"\n",
        "\n",
        "\n",
        "print(output1)\n",
        "print(output2)\n"
      ],
      "metadata": {
        "id": "Rt2B6IcXLQYZ"
      },
      "execution_count": null,
      "outputs": []
    }
  ]
}