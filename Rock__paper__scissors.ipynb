{
  "nbformat": 4,
  "nbformat_minor": 0,
  "metadata": {
    "colab": {
      "provenance": [],
      "authorship_tag": "ABX9TyNtZKg9Yye1nJXt+53JZw3h",
      "include_colab_link": true
    },
    "kernelspec": {
      "name": "python3",
      "display_name": "Python 3"
    },
    "language_info": {
      "name": "python"
    }
  },
  "cells": [
    {
      "cell_type": "markdown",
      "metadata": {
        "id": "view-in-github",
        "colab_type": "text"
      },
      "source": [
        "<a href=\"https://colab.research.google.com/github/SabihaSultanaa/Project-4-Assignments/blob/main/Rock__paper__scissors.ipynb\" target=\"_parent\"><img src=\"https://colab.research.google.com/assets/colab-badge.svg\" alt=\"Open In Colab\"/></a>"
      ]
    },
    {
      "cell_type": "code",
      "execution_count": null,
      "metadata": {
        "colab": {
          "base_uri": "https://localhost:8080/"
        },
        "id": "HL2NGidCa2-I",
        "outputId": "2ad66773-6483-4ef5-90f4-960258728f15"
      },
      "outputs": [
        {
          "output_type": "stream",
          "name": "stdout",
          "text": [
            "What's your choice? (f for fire, w for water, s for stone): s\n",
            "\n",
            "Computer chose: f\n",
            "You lost!\n"
          ]
        }
      ],
      "source": [
        "import random\n",
        "\n",
        "def play_game():\n",
        "    user_choice = input(\"What's your choice? (f for fire, w for water, s for stone): \")\n",
        "    computer_choice = random.choice(['f', 'w', 's'])\n",
        "\n",
        "    print(f\"\\nComputer chose: {computer_choice}\")\n",
        "\n",
        "    if user_choice == computer_choice:\n",
        "        print(\"It's a tie!\")\n",
        "    elif is_winner(user_choice, computer_choice):\n",
        "        print(\"You won!\")\n",
        "    else:\n",
        "        print(\"You lost!\")\n",
        "\n",
        "def is_winner(player, opponent):\n",
        "    if (player == 'f' and opponent == 's') or (player == 's' and opponent == 'w') or (player == 'w' and opponent == 'f'):\n",
        "        return True\n",
        "    else:\n",
        "        return False\n",
        "\n",
        "play_game()\n",
        "\n",
        "\n",
        "\n"
      ]
    }
  ]
}