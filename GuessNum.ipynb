{
  "nbformat": 4,
  "nbformat_minor": 0,
  "metadata": {
    "colab": {
      "provenance": [],
      "authorship_tag": "ABX9TyNxvPsW+gO/yyFmks2NJOH2",
      "include_colab_link": true
    },
    "kernelspec": {
      "name": "python3",
      "display_name": "Python 3"
    },
    "language_info": {
      "name": "python"
    }
  },
  "cells": [
    {
      "cell_type": "markdown",
      "metadata": {
        "id": "view-in-github",
        "colab_type": "text"
      },
      "source": [
        "<a href=\"https://colab.research.google.com/github/SabihaSultanaa/Project-4-Assignments/blob/main/GuessNum.ipynb\" target=\"_parent\"><img src=\"https://colab.research.google.com/assets/colab-badge.svg\" alt=\"Open In Colab\"/></a>"
      ]
    },
    {
      "cell_type": "code",
      "execution_count": null,
      "metadata": {
        "colab": {
          "base_uri": "https://localhost:8080/"
        },
        "id": "Kr4mrwldNwBl",
        "outputId": "0c905eb9-3cc5-48b5-f15b-9bb64b6d1772"
      },
      "outputs": [
        {
          "output_type": "stream",
          "name": "stdout",
          "text": [
            "Guess a number between 1 and 100: 30\n",
            "Sorry, try again! Too low.\n",
            "Guess a number between 1 and 100: 20\n",
            "Sorry, try again! Too low.\n",
            "Guess a number between 1 and 100: 1\n",
            "Sorry, try again! Too low.\n",
            "Guess a number between 1 and 100: 50\n",
            "Sorry, try again! Too low.\n",
            "Guess a number between 1 and 100: 90\n",
            "Sorry, try again! Too high.\n",
            "Guess a number between 1 and 100: 80\n",
            "Sorry, try again! Too high.\n",
            "Guess a number between 1 and 100: 70\n",
            "Sorry, try again! Too high.\n",
            "Guess a number between 1 and 100: 60\n",
            "Sorry, try again! Too high.\n",
            "Guess a number between 1 and 100: 50\n",
            "Sorry, try again! Too low.\n",
            "Guess a number between 1 and 100: 55\n",
            "Sorry, try again! Too low.\n",
            "Guess a number between 1 and 100: 58\n",
            "Yay! Congratulations, you've found the secret code 58 correctly!\n"
          ]
        }
      ],
      "source": [
        "# Guess the Number Game Python Project (computer)\n",
        "import random\n",
        "\n",
        "def find_the_secret(max_value):\n",
        "    secret_code = random.randint(1, max_value)\n",
        "    user_attempt = 0\n",
        "\n",
        "    while user_attempt != secret_code:\n",
        "        user_attempt = int(input(f\"Guess a number between 1 and {max_value}: \"))\n",
        "\n",
        "        if user_attempt < secret_code:\n",
        "            print(\"Sorry, try again! Too low.\")\n",
        "        elif user_attempt > secret_code:\n",
        "            print(\"Sorry, try again! Too high.\")\n",
        "\n",
        "    print(f\"Yay! Congratulations, you've found the secret code {secret_code} correctly!\")\n",
        "\n",
        "\n",
        "find_the_secret(100)\n"
      ]
    }
  ]
}