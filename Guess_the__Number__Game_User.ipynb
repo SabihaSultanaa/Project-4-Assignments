{
  "nbformat": 4,
  "nbformat_minor": 0,
  "metadata": {
    "colab": {
      "provenance": [],
      "authorship_tag": "ABX9TyPyELBit7G5xq49JPeKtIgr",
      "include_colab_link": true
    },
    "kernelspec": {
      "name": "python3",
      "display_name": "Python 3"
    },
    "language_info": {
      "name": "python"
    }
  },
  "cells": [
    {
      "cell_type": "markdown",
      "metadata": {
        "id": "view-in-github",
        "colab_type": "text"
      },
      "source": [
        "<a href=\"https://colab.research.google.com/github/SabihaSultanaa/Project-4-Assignments/blob/main/Guess_the__Number__Game_User.ipynb\" target=\"_parent\"><img src=\"https://colab.research.google.com/assets/colab-badge.svg\" alt=\"Open In Colab\"/></a>"
      ]
    },
    {
      "cell_type": "code",
      "execution_count": null,
      "metadata": {
        "colab": {
          "base_uri": "https://localhost:8080/"
        },
        "id": "4E21UNh7ZVVb",
        "outputId": "ef20c89d-946a-4624-88cd-ef6dc21103d2"
      },
      "outputs": [
        {
          "output_type": "stream",
          "name": "stdout",
          "text": [
            "Is 92 too high (H), too low (L), or correct (C)? 5\n",
            "Is 87 too high (H), too low (L), or correct (C)? 500\n",
            "Is 9 too high (H), too low (L), or correct (C)? c\n",
            "Is 6 too high (H), too low (L), or correct (C)? h\n",
            "Is 61 too high (H), too low (L), or correct (C)? h\n",
            "Is 90 too high (H), too low (L), or correct (C)? h'h\n",
            "Is 48 too high (H), too low (L), or correct (C)? h\n",
            "Is 84 too high (H), too low (L), or correct (C)? h\n",
            "Is 77 too high (H), too low (L), or correct (C)? h'h'\n",
            "Is 24 too high (H), too low (L), or correct (C)? H\n",
            "Is 13 too high (H), too low (L), or correct (C)? H\n",
            "Is 8 too high (H), too low (L), or correct (C)? L\n",
            "Is 9 too high (H), too low (L), or correct (C)? L\n",
            "Is 12 too high (H), too low (L), or correct (C)? H\n",
            "Is 10 too high (H), too low (L), or correct (C)? C\n",
            "Yay! Computer guessed your number 10 correctly!\n"
          ]
        }
      ],
      "source": [
        "# Guess the Number Game Python Project (user)\n",
        "import random\n",
        "def secret_guesser(max_value):\n",
        "    min_limit = 1\n",
        "    max_limit = max_value\n",
        "    user_response = \"\"\n",
        "\n",
        "    while user_response != \"C\":\n",
        "        if min_limit != max_limit:\n",
        "            computer_guess = random.randint(min_limit, max_limit)\n",
        "        else:\n",
        "            computer_guess = min_limit\n",
        "        user_response = input(f\"Is {computer_guess} too high (H), too low (L), or correct (C)? \")\n",
        "\n",
        "        if user_response == \"H\":\n",
        "            max_limit = computer_guess - 1\n",
        "        elif user_response == \"L\":\n",
        "            min_limit = computer_guess + 1\n",
        "\n",
        "    print(f\"Yay! Computer guessed your number {computer_guess} correctly!\")\n",
        "\n",
        "# Call the function with an argument\n",
        "secret_guesser(100)"
      ]
    }
  ]
}